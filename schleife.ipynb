{
 "cells": [
  {
   "cell_type": "code",
   "execution_count": 2,
   "id": "fc04545d",
   "metadata": {},
   "outputs": [
    {
     "name": "stdout",
     "output_type": "stream",
     "text": [
      "Python is eine Tolle Programmierungsprache!\n",
      "Hallo Welt ! 5\n",
      "Python is eine Tolle Programmierungsprache!\n",
      "Hallo Welt ! 5\n",
      "Python is eine Tolle Programmierungsprache!\n",
      "Hallo Welt ! 5\n",
      "Python is eine Tolle Programmierungsprache!\n",
      "Hallo Welt ! 5\n",
      "Python is eine Tolle Programmierungsprache!\n",
      "Hallo Welt ! 5\n",
      "Python is eine Tolle Programmierungsprache!\n",
      "Hallo Welt ! 5\n",
      "Python is eine Tolle Programmierungsprache!\n",
      "Hallo Welt ! 5\n",
      "Python is eine Tolle Programmierungsprache!\n",
      "Hallo Welt ! 5\n",
      "Python is eine Tolle Programmierungsprache!\n",
      "Hallo Welt ! 5\n",
      "Python is eine Tolle Programmierungsprache!\n",
      "Hallo Welt ! 5\n"
     ]
    }
   ],
   "source": [
    "for i in range (10):\n",
    "    print (\"Python is eine Tolle Programmierungsprache!\")\n",
    "    print (\"Hallo Welt !\", 2+3)\n",
    "    "
   ]
  },
  {
   "cell_type": "code",
   "execution_count": 4,
   "id": "789d83c5",
   "metadata": {},
   "outputs": [
    {
     "name": "stdout",
     "output_type": "stream",
     "text": [
      "Halli,Hallo\n",
      "Halli,Hallo\n",
      "Halli,Hallo\n"
     ]
    }
   ],
   "source": [
    "for i in range (3):\n",
    "    print (\"Halli,Hallo\")"
   ]
  },
  {
   "cell_type": "code",
   "execution_count": 5,
   "id": "e1201306",
   "metadata": {},
   "outputs": [
    {
     "name": "stdout",
     "output_type": "stream",
     "text": [
      "Python ist toll!\n",
      "Python ist toll!\n",
      "Python ist toll!\n",
      "Python ist toll!\n",
      "Python ist toll!\n"
     ]
    }
   ],
   "source": [
    "for i in range(5):\n",
    "    print(\"Python ist toll!\")"
   ]
  },
  {
   "cell_type": "code",
   "execution_count": 17,
   "id": "9c8ba3cf",
   "metadata": {},
   "outputs": [
    {
     "name": "stdout",
     "output_type": "stream",
     "text": [
      "7.666666666666667\n",
      "14.666666666666666\n",
      "21.666666666666668\n",
      "28.666666666666668\n",
      "35.666666666666664\n",
      "42.666666666666664\n",
      "49.666666666666664\n",
      "56.666666666666664\n",
      "63.666666666666664\n"
     ]
    }
   ],
   "source": [
    "for i in range (9):\n",
    "    print(((i+1)*7)+(2/3))\n"
   ]
  },
  {
   "cell_type": "code",
   "execution_count": 20,
   "id": "4d575ca2",
   "metadata": {},
   "outputs": [
    {
     "name": "stdout",
     "output_type": "stream",
     "text": [
      "1\n",
      "2\n",
      "3\n",
      "4\n",
      "5\n",
      "6\n",
      "7\n",
      "8\n",
      "9\n",
      "10\n"
     ]
    }
   ],
   "source": [
    "for i in range(1,11):\n",
    "    print(i)\n",
    "    "
   ]
  },
  {
   "cell_type": "code",
   "execution_count": null,
   "id": "8e5d0db3",
   "metadata": {},
   "outputs": [],
   "source": [
    "text = input(\"Was sollt wiederholt werden ? \")\n",
    "anzahl = int(input(\"Wie oft? \"))\n",
    "print(\"du hast dir\", anzahl, \"gewüscht\")\n",
    "for i in range (anzahl):\n",
    "    print(text)"
   ]
  },
  {
   "cell_type": "code",
   "execution_count": 33,
   "id": "901abcc6",
   "metadata": {},
   "outputs": [
    {
     "name": "stdout",
     "output_type": "stream",
     "text": [
      "Was solltet wiederwollt werden ?natalie\n",
      "Wie oft ?10\n",
      "natalie\n",
      "natalie\n",
      "natalie\n",
      "natalie\n",
      "natalie\n",
      "natalie\n",
      "natalie\n",
      "natalie\n",
      "natalie\n",
      "natalie\n"
     ]
    }
   ],
   "source": [
    "text=input(\"Was solltet wiederwollt werden ?\")\n",
    "anzahl= int(input(\"Wie oft ?\"))\n",
    "i=1\n",
    "while i <= anzahl:\n",
    "    print(text)\n",
    "    i+=1"
   ]
  },
  {
   "cell_type": "code",
   "execution_count": null,
   "id": "aee1e7c3",
   "metadata": {},
   "outputs": [],
   "source": [
    "text=input(\"Was solltet wiederwollt werden ?\")\n",
    "anzahl= int(input(\"Wie oft ?\"))\n",
    "i=1\n",
    "while i <= anzahl:\n",
    "    print(text)\n",
    "    i+=1"
   ]
  },
  {
   "cell_type": "code",
   "execution_count": 95,
   "id": "e485f56a",
   "metadata": {},
   "outputs": [
    {
     "name": "stdout",
     "output_type": "stream",
     "text": [
      "Countdown Programm \n",
      "-10\n",
      "-9\n",
      "-8\n",
      "-7\n",
      "-6\n",
      "-5\n",
      "-4\n",
      "-3\n",
      "-2\n",
      "-1\n",
      "Start\n"
     ]
    }
   ],
   "source": [
    "print(\"Countdown Programm \")\n",
    "for i in range (10):\n",
    "    print(i-10)\n",
    "print(\"Start\")\n",
    "  "
   ]
  },
  {
   "cell_type": "code",
   "execution_count": 91,
   "id": "0fb6ab78",
   "metadata": {},
   "outputs": [
    {
     "name": "stdout",
     "output_type": "stream",
     "text": [
      "Countdown programm \n",
      "10\n",
      "9\n",
      "8\n",
      "7\n",
      "6\n",
      "5\n",
      "4\n",
      "3\n",
      "2\n",
      "1\n",
      "0\n",
      "Vorsicht an der Rampe \n",
      "Start\n"
     ]
    }
   ],
   "source": [
    "print(\"Countdown programm \")\n",
    "j= \"Vorsicht an der Rampe\"\n",
    "i = 10\n",
    "while i >=0:\n",
    "    print(i)\n",
    "    i-=1\n",
    "print(j,\"\\nStart\")\n"
   ]
  },
  {
   "cell_type": "code",
   "execution_count": null,
   "id": "5eaa142a",
   "metadata": {},
   "outputs": [],
   "source": []
  }
 ],
 "metadata": {
  "kernelspec": {
   "display_name": "Python 3 (ipykernel)",
   "language": "python",
   "name": "python3"
  },
  "language_info": {
   "codemirror_mode": {
    "name": "ipython",
    "version": 3
   },
   "file_extension": ".py",
   "mimetype": "text/x-python",
   "name": "python",
   "nbconvert_exporter": "python",
   "pygments_lexer": "ipython3",
   "version": "3.9.13"
  }
 },
 "nbformat": 4,
 "nbformat_minor": 5
}
